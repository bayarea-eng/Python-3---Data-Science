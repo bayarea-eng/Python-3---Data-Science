{
 "cells": [
  {
   "cell_type": "markdown",
   "metadata": {},
   "source": [
    "# Class 2 -- Reading dataset from xlsx using openpyxl"
   ]
  },
  {
   "cell_type": "code",
   "execution_count": 2,
   "metadata": {},
   "outputs": [],
   "source": [
    "# Documentation and help\n",
    "# https://openpyxl.readthedocs.io/en/stable/ \n",
    "# https://openpyxl.readthedocs.io/en/stable/usage.html\n",
    "# https://openpyxl.readthedocs.io/en/stable/tutorial.html"
   ]
  },
  {
   "cell_type": "code",
   "execution_count": 3,
   "metadata": {},
   "outputs": [],
   "source": [
    "from openpyxl import load_workbook"
   ]
  },
  {
   "cell_type": "code",
   "execution_count": 4,
   "metadata": {},
   "outputs": [
    {
     "name": "stdout",
     "output_type": "stream",
     "text": [
      "Sheets: ['States', 'Countries', 'Income']\n",
      "Rows 53\n",
      "Columns 5\n"
     ]
    }
   ],
   "source": [
    "wb = load_workbook(filename=\"xls_for_python.xlsx\", read_only=True)\n",
    "print(\"Sheets:\",wb.sheetnames)\n",
    "ws = wb[\"States\"]\n",
    "row_count = ws.max_row        \n",
    "column_count = ws.max_column\n",
    "print('Rows',row_count)\n",
    "print(\"Columns\",column_count)"
   ]
  },
  {
   "cell_type": "code",
   "execution_count": 5,
   "metadata": {},
   "outputs": [
    {
     "name": "stdout",
     "output_type": "stream",
     "text": [
      "['S', 'a', 'n', 'j', 'a', 'y']\n"
     ]
    }
   ],
   "source": [
    "mystr = \"Sanjay\"\n",
    "ss = list(mystr)\n",
    "print(ss)"
   ]
  },
  {
   "cell_type": "code",
   "execution_count": 13,
   "metadata": {},
   "outputs": [
    {
     "name": "stdout",
     "output_type": "stream",
     "text": [
      "California\n",
      "Colorado\n",
      "Connecticut\n"
     ]
    }
   ],
   "source": [
    "wb = load_workbook(filename=\"xls_for_python.xlsx\", read_only=True)\n",
    "ws = wb[\"States\"]\n",
    "\n",
    "for row in ws.rows:\n",
    "    row_values = [cell.value for cell in row]\n",
    " #   print(row_values[1])\n",
    "    state_name = list(str(row_values[0]))\n",
    "    if (state_name[0] == \"C\"):\n",
    "        print(row_values[0])"
   ]
  },
  {
   "cell_type": "code",
   "execution_count": 7,
   "metadata": {
    "scrolled": true
   },
   "outputs": [
    {
     "name": "stdout",
     "output_type": "stream",
     "text": [
      "Nebraska\n",
      "Nevada\n",
      "New Hampshire\n",
      "New Jersey\n",
      "New Mexico\n",
      "New York\n",
      "North Carolina\n",
      "North Dakota\n"
     ]
    }
   ],
   "source": [
    "# COMPLETED \n",
    "wb = load_workbook(filename=\"xls_for_python.xlsx\", read_only=True)\n",
    "ws = wb[\"States\"]\n",
    "\n",
    "for row in ws.rows:\n",
    "    row_values = [cell.value for cell in row]\n",
    "    state_name = list(str(row_values[0]))    \n",
    "#    print(state_name[0], row_values[0])\n",
    "    if ((state_name[0] == \"N\") and (row_values[0] != \"Name\") and ((row_values[0]) != None)):\n",
    "        print(row_values[0])"
   ]
  },
  {
   "cell_type": "markdown",
   "metadata": {},
   "source": [
    "# Ex1: Modify the above code to list states starting with \"N\""
   ]
  },
  {
   "cell_type": "code",
   "execution_count": 8,
   "metadata": {},
   "outputs": [
    {
     "name": "stdout",
     "output_type": "stream",
     "text": [
      "Nebraska\n",
      "Nevada\n",
      "New Hampshire\n",
      "New Jersey\n",
      "New Mexico\n",
      "New York\n",
      "North Carolina\n",
      "North Dakota\n"
     ]
    }
   ],
   "source": [
    "# Your code here\n",
    "\n",
    "# COMPLETED \n",
    "wb = load_workbook(filename=\"xls_for_python.xlsx\", read_only=True)\n",
    "ws = wb[\"States\"]\n",
    "\n",
    "for row in ws.rows:\n",
    "    row_values = [cell.value for cell in row]\n",
    "    state_name = list(str(row_values[0]))    \n",
    "#    print(state_name[0], row_values[0])\n",
    "    if ((state_name[0] == \"N\") and (row_values[0] != \"Name\") and ((row_values[0]) != None)):\n",
    "        print(row_values[0])"
   ]
  },
  {
   "cell_type": "markdown",
   "metadata": {},
   "source": [
    "# Ex2: List only the states with the highest and lowest geographic area"
   ]
  },
  {
   "cell_type": "code",
   "execution_count": 9,
   "metadata": {},
   "outputs": [
    {
     "name": "stdout",
     "output_type": "stream",
     "text": [
      "State with HIGHEST area is Alaska  with an area of 589757\n",
      "State with LOWEST area is Rhode Island  with an area of 1214\n"
     ]
    }
   ],
   "source": [
    "# Your code here\n",
    "wb = load_workbook(filename=\"xls_for_python.xlsx\", read_only=True)\n",
    "ws = wb[\"States\"]\n",
    "\n",
    "Area = []\n",
    "State = []\n",
    "for row in ws.rows:\n",
    "    row_values = [cell.value for cell in row]\n",
    "    a = 0\n",
    "    if (row_values[0] != None):\n",
    "        a = ((row_values[-1]))\n",
    "        s = row_values[0]\n",
    "        Area.append(a)\n",
    "        State.append(s)\n",
    "Area.remove('Area')\n",
    "State.remove('Name')\n",
    "#print(Area)\n",
    "#print(Area.index(max(Area)), max(Area))\n",
    "print( \"State with HIGHEST area is\", State[Area.index(max(Area))], \" with an area of\", max(Area) )\n",
    "print( \"State with LOWEST area is\", State[Area.index(min(Area))], \" with an area of\", min(Area) )"
   ]
  },
  {
   "cell_type": "markdown",
   "metadata": {},
   "source": [
    "# Ex3: Find all countries starting with letter \"C\""
   ]
  },
  {
   "cell_type": "code",
   "execution_count": 10,
   "metadata": {},
   "outputs": [
    {
     "name": "stdout",
     "output_type": "stream",
     "text": [
      "Sheets: ['States', 'Countries', 'Income']\n",
      "Cambodia\n",
      "Cameroon\n",
      "Canada\n",
      "Cape Verde Islands\n",
      "Cayman Islands\n",
      "Central African Republic\n",
      "Chad\n",
      "Chile\n",
      "China, Hong Kong\n",
      "China, Macau\n",
      "China, People’s Republic\n",
      "China, Taiwan\n",
      "Colombia\n",
      "Comoros\n",
      "Congo, Democratic Republic of\n",
      "Congo, Republic of\n",
      "Cook Islands\n",
      "Costa Rica\n",
      "Cote d’Ivoire\n",
      "Croatia\n",
      "Cuba\n",
      "Cyprus Czech Republic\n"
     ]
    }
   ],
   "source": [
    "# Your code here\n",
    "wb = load_workbook(filename=\"xls_for_python.xlsx\", read_only=True)\n",
    "print(\"Sheets:\",wb.sheetnames)\n",
    "ws_country = wb[\"Countries\"]\n",
    "\n",
    "for row in ws_country.rows:\n",
    "    row_values = [cell.value for cell in row]\n",
    "    Country_Letter = list(str(row_values[0]))\n",
    "    if  Country_Letter[0] == 'C' and row_values[0] != 'Countries': \n",
    "        print(row_values[0])"
   ]
  },
  {
   "cell_type": "markdown",
   "metadata": {},
   "source": [
    "# Ex4: Find the average of all state median incomes"
   ]
  },
  {
   "cell_type": "code",
   "execution_count": 11,
   "metadata": {},
   "outputs": [
    {
     "name": "stdout",
     "output_type": "stream",
     "text": [
      "Sheets: ['States', 'Countries', 'Income'] \n",
      "\n",
      "AVERAGE of all state median incomes is: $ 56126.0\n"
     ]
    }
   ],
   "source": [
    "# Your code here\n",
    "\n",
    "wb = load_workbook(filename=\"xls_for_python.xlsx\", read_only=True)\n",
    "print(\"Sheets:\",wb.sheetnames, \"\\n\")\n",
    "ws_inc = wb[\"Income\"]\n",
    "\n",
    "I = []\n",
    "for row in ws_inc.rows:\n",
    "    row_values = [cell.value for cell in row]\n",
    "#    Country_Letter = list(str(row_values[0]))\n",
    "    if  (row_values[0] != None) and (row_values[0] != 'United States'): \n",
    "        I.append(row_values[-1])\n",
    "print( \"AVERAGE of all state median incomes is: $\", round(sum(I)/len(I),2) )"
   ]
  },
  {
   "cell_type": "code",
   "execution_count": null,
   "metadata": {},
   "outputs": [],
   "source": [
    "# Another Method to get list using list comprehension\n",
    "\n",
    "wb = load_workbook(filename=\"xls_for_python.xlsx\", read_only=True)\n",
    "print(\"Sheets:\",wb.sheetnames, \"\\n\")\n",
    "ws_inc = wb[\"Income\"]\n",
    "\n",
    "[[cell.value for cell in row] for row in ws_inc.rows]"
   ]
  },
  {
   "cell_type": "markdown",
   "metadata": {},
   "source": [
    "# Ex5: Find the median of all state median incomes"
   ]
  },
  {
   "cell_type": "code",
   "execution_count": 12,
   "metadata": {},
   "outputs": [
    {
     "name": "stdout",
     "output_type": "stream",
     "text": [
      "MEDIAN of all state median incomes is: $ 58200.0\n"
     ]
    }
   ],
   "source": [
    "I.sort()\n",
    "x = len(I)\n",
    "#print(I, x)\n",
    "\n",
    "if(x % 2 == 0):\n",
    "    print( \"MEDIAN of all state median incomes is: $\", round( (I[x%2] + I[x%2 - 1])/2,2) )\n",
    "else:\n",
    "    print( \"MEDIAN of all state median incomes is: $\", I[x%2])"
   ]
  }
 ],
 "metadata": {
  "kernelspec": {
   "display_name": "Python 3",
   "language": "python",
   "name": "python3"
  },
  "language_info": {
   "codemirror_mode": {
    "name": "ipython",
    "version": 3
   },
   "file_extension": ".py",
   "mimetype": "text/x-python",
   "name": "python",
   "nbconvert_exporter": "python",
   "pygments_lexer": "ipython3",
   "version": "3.7.3"
  }
 },
 "nbformat": 4,
 "nbformat_minor": 2
}
