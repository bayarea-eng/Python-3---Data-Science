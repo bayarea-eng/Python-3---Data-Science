{
 "cells": [
  {
   "cell_type": "markdown",
   "metadata": {},
   "source": [
    "# Python practice problems with for loops, dict, input"
   ]
  },
  {
   "cell_type": "code",
   "execution_count": 1,
   "metadata": {},
   "outputs": [],
   "source": [
    "# Review Python \"input\" # this should help with assignments below"
   ]
  },
  {
   "cell_type": "code",
   "execution_count": 2,
   "metadata": {},
   "outputs": [
    {
     "name": "stdout",
     "output_type": "stream",
     "text": [
      "Which year will be next summer Olympics? 2020\n"
     ]
    }
   ],
   "source": [
    "Olympic_year = input(\"Which year will be next summer Olympics? \")\n"
   ]
  },
  {
   "cell_type": "code",
   "execution_count": 5,
   "metadata": {},
   "outputs": [
    {
     "name": "stdout",
     "output_type": "stream",
     "text": [
      "<class 'str'>\n"
     ]
    }
   ],
   "source": [
    "print(type(Olympic_year)) # it is string"
   ]
  },
  {
   "cell_type": "code",
   "execution_count": 4,
   "metadata": {},
   "outputs": [
    {
     "name": "stdout",
     "output_type": "stream",
     "text": [
      "<class 'int'>\n"
     ]
    }
   ],
   "source": [
    "print(type(int(Olympic_year))) # it is integer"
   ]
  },
  {
   "cell_type": "markdown",
   "metadata": {},
   "source": [
    "1) Write a for loop to print \"Hello\" 10 times."
   ]
  },
  {
   "cell_type": "code",
   "execution_count": 21,
   "metadata": {},
   "outputs": [
    {
     "name": "stdout",
     "output_type": "stream",
     "text": [
      "Method 1\n",
      "Hello Hello Hello Hello Hello Hello Hello Hello Hello Hello \n",
      "\n",
      "Method 2\n",
      "Hello Hello Hello Hello Hello Hello Hello Hello Hello Hello \n",
      "\n",
      "Method 3\n",
      "['Hello', 'Hello', 'Hello', 'Hello', 'Hello', 'Hello', 'Hello', 'Hello', 'Hello', 'Hello']\n",
      "\n",
      "Method 4\n",
      "Hello\n",
      "Hello\n",
      "Hello\n",
      "Hello\n",
      "Hello\n",
      "Hello\n",
      "Hello\n",
      "Hello\n",
      "Hello\n",
      "Hello\n"
     ]
    }
   ],
   "source": [
    "# Write code here ...\n",
    "# Method 1\n",
    "print(\"Method 1\")\n",
    "print(\"Hello \" * 10)\n",
    "\n",
    "# Method 2\n",
    "print(\"\\nMethod 2\")\n",
    "s = \"Hello \"\n",
    "print(s*10)\n",
    "\n",
    "# Method 3\n",
    "print(\"\\nMethod 3\")\n",
    "a = [\"Hello\" for i in range(10)]\n",
    "print(a)\n",
    "\n",
    "# Method 4\n",
    "print(\"\\nMethod 4\")\n",
    "t = \"Hello\"\n",
    "for i in range(10):\n",
    "    print(t)"
   ]
  },
  {
   "cell_type": "markdown",
   "metadata": {},
   "source": [
    "2) Write a for loop to print even numbers in the range 1 .. 20"
   ]
  },
  {
   "cell_type": "code",
   "execution_count": 27,
   "metadata": {},
   "outputs": [
    {
     "name": "stdout",
     "output_type": "stream",
     "text": [
      "2\n",
      "4\n",
      "6\n",
      "8\n",
      "10\n",
      "12\n",
      "14\n",
      "16\n",
      "18\n",
      "20\n"
     ]
    },
    {
     "data": {
      "text/plain": [
       "[None, None, None, None, None, None, None, None, None, None]"
      ]
     },
     "execution_count": 27,
     "metadata": {},
     "output_type": "execute_result"
    }
   ],
   "source": [
    "# Write code here ...\n",
    "[print(i) for i in range(1,21) if (i%2 == 0)]"
   ]
  },
  {
   "cell_type": "code",
   "execution_count": null,
   "metadata": {},
   "outputs": [],
   "source": [
    "\"\"\"\n",
    "3) Define a list of animals to be as follows:\n",
    "animals = [\"lion\",\"tiger\",\"elephant\",\"giraffe\",\"zebra\"]\n",
    "\n",
    "Now print animal names using for loop. The output should be as follows:\n",
    "1 lion\n",
    "2 tiger\n",
    "3 elephant\n",
    "4 giraffe\n",
    "5 zebra\n",
    "\"\"\""
   ]
  },
  {
   "cell_type": "code",
   "execution_count": 31,
   "metadata": {},
   "outputs": [
    {
     "name": "stdout",
     "output_type": "stream",
     "text": [
      "Method 1\n",
      "1 lion\n",
      "2 tiger\n",
      "3 elephant\n",
      "4 giraffe\n",
      "5 zebra\n",
      "\n",
      "Method 2\n",
      "1 lion\n",
      "2 tiger\n",
      "3 elephant\n",
      "4 giraffe\n",
      "5 zebra\n"
     ]
    },
    {
     "data": {
      "text/plain": [
       "[None, None, None, None, None]"
      ]
     },
     "execution_count": 31,
     "metadata": {},
     "output_type": "execute_result"
    }
   ],
   "source": [
    "# Write code here ... COMPLETED\n",
    "animals = [\"lion\",\"tiger\",\"elephant\",\"giraffe\",\"zebra\"]\n",
    "# METHOD 1\n",
    "print(\"Method 1\")\n",
    "for i in range(len(animals)):\n",
    "    print(i+1, animals[i])\n",
    "    \n",
    "# METHOD 2\n",
    "print(\"\\nMethod 2\")\n",
    "[print(i+1, animals[i]) for i in range(len(animals))]\n"
   ]
  },
  {
   "cell_type": "code",
   "execution_count": null,
   "metadata": {},
   "outputs": [],
   "source": [
    "\"\"\"\n",
    "4) Visiting moon every year for next 10 years\n",
    "The weight on moon can be estimated to be 18%  of weight on earth.\n",
    "Write a program which will ask the user to enter current earth weight.\n",
    "Then calculate weight on moon. Assume our weight increases by 2 pounds every year on earth.\n",
    "\n",
    "Use for loop to print weight on moon each year when you visit.\n",
    "\"\"\""
   ]
  },
  {
   "cell_type": "code",
   "execution_count": 40,
   "metadata": {},
   "outputs": [
    {
     "name": "stdout",
     "output_type": "stream",
     "text": [
      "Please enter your current weight on Earth: 100\n",
      "Weight on moon in year 1 is 18.0\n",
      "Weight on moon in year 2 is 18.36\n",
      "Weight on moon in year 3 is 18.72\n",
      "Weight on moon in year 4 is 19.08\n",
      "Weight on moon in year 5 is 19.44\n",
      "Weight on moon in year 6 is 19.8\n",
      "Weight on moon in year 7 is 20.16\n",
      "Weight on moon in year 8 is 20.52\n",
      "Weight on moon in year 9 is 20.88\n",
      "Weight on moon in year 10 is 21.24\n"
     ]
    }
   ],
   "source": [
    "# Write code here ...COMPLETED\n",
    "# ASSUMED 2 POUNDS INCREASE IS IN EARTH WEIGHT\n",
    "def MoonWeight10Yrs(a):\n",
    "    for i in range(10):\n",
    "            MoonWeight = ( EarthWeight + i*2 ) * 0.18\n",
    "            print(\"Weight on moon in year\", i+1, \"is\",  round(MoonWeight,2) )\n",
    "        \n",
    "EarthWeight = int( input(\"Please enter your current weight on Earth: \") )\n",
    "MoonWeight10Yrs(EarthWeight)"
   ]
  },
  {
   "cell_type": "markdown",
   "metadata": {},
   "source": [
    "5) Write a for loop to find the sum of all numbers from 1 to 100; 1 + 2 + ... + 99 + 100"
   ]
  },
  {
   "cell_type": "code",
   "execution_count": 48,
   "metadata": {},
   "outputs": [
    {
     "data": {
      "text/plain": [
       "5050"
      ]
     },
     "execution_count": 48,
     "metadata": {},
     "output_type": "execute_result"
    }
   ],
   "source": [
    "# Write code here ... COMPLETED\n",
    "def find_sum(mn,mx):\n",
    "    sum = 0\n",
    "    for i in range(mn,mx):\n",
    "        sum += i\n",
    "    return sum\n",
    "\n",
    "find_sum(1,101)"
   ]
  },
  {
   "cell_type": "markdown",
   "metadata": {},
   "source": [
    "6) Write a for loop which will ask the user to input 4 numbers. The program should calculate sum of 4 numbers and print the sum."
   ]
  },
  {
   "cell_type": "code",
   "execution_count": 19,
   "metadata": {},
   "outputs": [
    {
     "name": "stdout",
     "output_type": "stream",
     "text": [
      "Enter FOUR numbers: 1 2 3 4\n",
      "Sum of the FOUR inputs is 10.0\n"
     ]
    }
   ],
   "source": [
    "# Write code here... 4 inputs at the SAME TIME\n",
    "\n",
    "def sum4():\n",
    "    sum4 = 0\n",
    "    num = 0\n",
    "    a, b, c, d = (input(\"Enter FOUR numbers: \").split())\n",
    "    sum4 = float(a) + float(b) + float(c) + float(d)\n",
    "    print(\"Sum of the FOUR inputs is\", sum4)\n",
    "\n",
    "sum4()"
   ]
  },
  {
   "cell_type": "code",
   "execution_count": 23,
   "metadata": {},
   "outputs": [
    {
     "name": "stdout",
     "output_type": "stream",
     "text": [
      "1\n",
      "<class 'str'>\n",
      "num is int\n"
     ]
    }
   ],
   "source": [
    "a = input()\n",
    "print(type(a))\n",
    "if a.isdigit() == True:\n",
    "    print(\"num is int\")\n",
    "else:\n",
    "    print(\"num is float\")"
   ]
  },
  {
   "cell_type": "code",
   "execution_count": 24,
   "metadata": {
    "scrolled": true
   },
   "outputs": [
    {
     "name": "stdout",
     "output_type": "stream",
     "text": [
      "Enter number 1 :\n",
      "1\n",
      "Enter number 2 :\n",
      "1.1\n",
      "Enter number 3 :\n",
      "1.2\n",
      "Enter number 4 :\n",
      "1.3\n",
      "Sum of the FOUR inputs is 4.6\n"
     ]
    }
   ],
   "source": [
    "# Write Code here... COMPLETED (FOR loop)\n",
    "def sum4():\n",
    "    sum4 = 0\n",
    "    num = 0\n",
    "    for num in range(4):\n",
    "        if (num <= 3):\n",
    "            print(\"Enter number\", num+1, \":\")\n",
    "            a = (input())\n",
    "            if a.isdigit == True:\n",
    "                a1 = int(a)\n",
    "            else:\n",
    "                a1 = float(a)\n",
    "            sum4 += a1 \n",
    "        if (num == 3):\n",
    "            print(\"Sum of the FOUR inputs is\", sum4)\n",
    "        num += 1\n",
    "\n",
    "sum4()"
   ]
  },
  {
   "cell_type": "code",
   "execution_count": 18,
   "metadata": {
    "scrolled": true
   },
   "outputs": [
    {
     "name": "stdout",
     "output_type": "stream",
     "text": [
      "Enter number 1 :\n",
      "1\n",
      "Enter number 2 :\n",
      "2\n",
      "Enter number 3 :\n",
      "3\n",
      "Enter number 4 :\n",
      "4\n",
      "Sum of the FOUR inputs is 10.0\n"
     ]
    }
   ],
   "source": [
    "# Write Code here... COMPLETED (WHILE loop)\n",
    "def sum4():\n",
    "    sum4 = 0\n",
    "    num = 0\n",
    "    while (num <= 3):\n",
    "        print(\"Enter number\", num+1, \":\")\n",
    "        a = float(input())\n",
    "        sum4 += a\n",
    "        num += 1\n",
    "    print(\"Sum of the FOUR inputs is\", sum4)\n",
    "\n",
    "sum4()"
   ]
  },
  {
   "cell_type": "code",
   "execution_count": 31,
   "metadata": {},
   "outputs": [
    {
     "name": "stdout",
     "output_type": "stream",
     "text": [
      "1\n",
      "2\n",
      "3\n",
      "4\n",
      "10.0\n"
     ]
    }
   ],
   "source": [
    "# Using List Comprehension - COMPLETED\n",
    "sumof4 = sum ( [float(input()) for num in range(4)] )\n",
    "print(sumof4)\n"
   ]
  },
  {
   "cell_type": "markdown",
   "metadata": {},
   "source": [
    "7) Write a Python for loop to find product of even number from 1 to 50;\n",
    "2 x 4 x 6 x 8 x ... x 42 x 44 x 46 x 50"
   ]
  },
  {
   "cell_type": "code",
   "execution_count": 32,
   "metadata": {},
   "outputs": [
    {
     "name": "stdout",
     "output_type": "stream",
     "text": [
      "Product of all elements of List:  520469842636666622693081088000000\n"
     ]
    }
   ],
   "source": [
    "# Write code here ... COMPLETED\n",
    "\n",
    "def product(t):\n",
    "    tmp = t\n",
    "    P = 1\n",
    "    while(tmp != []):\n",
    "        x = tmp.pop(0)\n",
    "        P = P * x\n",
    "    return P\n",
    "   \n",
    "# List = [ int(I) for I in range(1,51) if (I % 2 == 0)]\n",
    "# print(\"List of even elements: \", List)\n",
    "# print(type(List[0]))\n",
    "# print(\"Length of list: \", len(List))\n",
    "# #I for I in [ int(I) for I in range(1,51) if (I % 2 == 0)]: Prod * int(I)\n",
    "# Prod = product(List)\n",
    "# print(\"Product of all elements of List: \", Prod)\n",
    "# print(List)\n",
    "\n",
    "Prod = product([ int(I) for I in range(1,51) if (I % 2 == 0)])\n",
    "print(\"Product of all elements of List: \", Prod)"
   ]
  },
  {
   "cell_type": "code",
   "execution_count": null,
   "metadata": {},
   "outputs": [],
   "source": [
    "# USING LIST COMPREHENSION - GET HELP IN CLASS\n",
    "# List = [ int(I) for I in range(1,51) if (I % 2 == 0)]\n",
    "P = 1\n",
    "for n in range (len([ int(I) for I in range(1,51) if (I % 2 == 0) ]) ): P = P*int(I)\n",
    "print(P)"
   ]
  },
  {
   "cell_type": "markdown",
   "metadata": {},
   "source": [
    "8a) Find the index of minimum and maximum number in MyList."
   ]
  },
  {
   "cell_type": "code",
   "execution_count": 39,
   "metadata": {},
   "outputs": [],
   "source": [
    "myList = [46, 84, 43, 75, 94, 7, 17, 76, 44, 17, 81, 21, 70, 56, 98, 88, 59, 58, 62, 77, \n",
    "          56, 19, 83, 82, 2, 38, 8, 57, 80, 54, 71, 74, 77, 18, 66, 25, 60, 29, 30, 11, \n",
    "          45, 60, 92, 44, 71, 49, 22, 74, 30, 58, 73, 60, 14, 97, 13, 78, 42, 17, 98, 14, \n",
    "          19, 79, 54, 56, 84, 81, 49, 18, 95, 36, 84, 77, 44, 69, 48, 94, 66, 13, 96, 7, \n",
    "          9, 47, 4, 37, 71, 51, 9, 28, 92, 38, 75, 66, 2, 34, 88, 4, 43, 75, 57, 83,\n",
    "          63, 17, 25, 98, 71, 95, 1, 86, 97, 90, 6, 96, 11, 49, 16, 91, 50, 66, 54, 94,\n",
    "          75, 69, 97, 23, 50, 13, 75, 15, 77, 17, 57, 59, 47, 44, 95, 28, 16, 72, 69, 7,\n",
    "          14, 76, 10, 21, 56, 89, 51, 78, 25, 7, 8, 17, 53, 86, 58, 35, 46, 16, 74, 21, 9,\n",
    "          4, 91, 59, 84, 50, 86, 60, 63, 99, 92, 64, 55, 40, 93, 39, 48, 96, 49, 98, 36,\n",
    "          72, 82, 45, 62, 58, 77, 17, 42, 49, 38, 21, 84, 61, 77, 1, 37, 31, 50, 52, 58]"
   ]
  },
  {
   "cell_type": "code",
   "execution_count": 35,
   "metadata": {},
   "outputs": [
    {
     "name": "stdout",
     "output_type": "stream",
     "text": [
      "Length of myList:  201\n",
      "minlst:  46 tmp[I]:  46\n",
      "minlst:  43 tmp[I]:  43\n",
      "minlst:  7 tmp[I]:  7\n",
      "minlst:  2 tmp[I]:  2\n",
      "minlst:  2 tmp[I]:  2\n",
      "minlst:  1 tmp[I]:  1\n",
      "minlst:  1 tmp[I]:  1\n",
      "MINIMUM VALUE IN myList:  1\n",
      "Length of myList:  201\n",
      "maxlst:  46 tmp[I]:  46\n",
      "maxlst:  84 tmp[I]:  84\n",
      "maxlst:  94 tmp[I]:  94\n",
      "maxlst:  98 tmp[I]:  98\n",
      "maxlst:  98 tmp[I]:  98\n",
      "maxlst:  98 tmp[I]:  98\n",
      "maxlst:  99 tmp[I]:  99\n",
      "MAXIMUM VALUE IN myList:  99\n"
     ]
    }
   ],
   "source": [
    "# Write code here ... COMPLETED\n",
    "def getmin(t):\n",
    "    tmp = t\n",
    "    print(\"Length of myList: \", len(myList))\n",
    "    n = len(myList)\n",
    "    minlst = 0\n",
    "    for I in range(n):\n",
    "        if (I == 0):\n",
    "            minlst = tmp[I]\n",
    "            print(\"minlst: \", minlst, \"tmp[I]: \", tmp[I])\n",
    "        elif( tmp[I] <= minlst):\n",
    "            minlst = tmp[I]\n",
    "            print(\"minlst: \", minlst, \"tmp[I]: \", tmp[I])\n",
    "        else:\n",
    "            continue\n",
    "    return minlst\n",
    "\n",
    "def getmax(t):\n",
    "    tmp = t\n",
    "    print(\"Length of myList: \", len(myList))\n",
    "    n = len(myList)\n",
    "    maxlst = 0\n",
    "    for I in range(n):\n",
    "        if (I == 0):\n",
    "            maxlst = tmp[I]\n",
    "            print(\"maxlst: \", maxlst, \"tmp[I]: \", tmp[I])\n",
    "        elif( tmp[I] >= maxlst):\n",
    "            maxlst = tmp[I]\n",
    "            print(\"maxlst: \", maxlst, \"tmp[I]: \", tmp[I])\n",
    "        else:\n",
    "            continue\n",
    "    return maxlst\n",
    "\n",
    "minlist = getmin(myList)\n",
    "print(\"MINIMUM VALUE IN myList: \", minlist)\n",
    "maxlist = getmax(myList)\n",
    "print(\"MAXIMUM VALUE IN myList: \", maxlist)"
   ]
  },
  {
   "cell_type": "markdown",
   "metadata": {},
   "source": [
    "8b) In myList, find top-5 highest frequency numbers. List the numbers and number of occurences."
   ]
  },
  {
   "cell_type": "code",
   "execution_count": 116,
   "metadata": {},
   "outputs": [
    {
     "name": "stdout",
     "output_type": "stream",
     "text": [
      "Length of myList:  201\n",
      "{46: 2, 84: 5, 43: 2, 75: 5, 94: 3, 7: 4, 17: 7, 76: 2, 44: 4, 81: 2, 21: 4, 70: 1, 56: 4, 98: 4, 88: 2, 59: 3, 58: 5, 62: 2, 77: 6, 19: 2, 83: 2, 82: 2, 2: 2, 38: 3, 8: 2, 57: 3, 80: 1, 54: 3, 71: 4, 74: 3, 18: 2, 66: 4, 25: 3, 60: 4, 29: 1, 30: 2, 11: 2, 45: 2, 92: 3, 49: 5, 22: 1, 73: 1, 14: 3, 97: 3, 13: 3, 78: 2, 42: 2, 79: 1, 95: 3, 36: 2, 69: 3, 48: 2, 96: 3, 9: 3, 47: 2, 4: 3, 37: 2, 51: 2, 28: 2, 34: 1, 63: 2, 1: 2, 86: 3, 90: 1, 6: 1, 16: 3, 91: 2, 50: 4, 23: 1, 15: 1, 72: 2, 10: 1, 89: 1, 53: 1, 35: 1, 99: 1, 64: 1, 55: 1, 40: 1, 93: 1, 39: 1, 61: 1, 31: 1, 52: 1}\n",
      "Length of Dictionary:  84\n",
      "[(7, 17), (6, 77), (5, 84), (5, 75), (5, 58), (5, 49), (4, 98), (4, 71), (4, 66), (4, 60), (4, 56), (4, 50), (4, 44), (4, 21), (4, 7), (3, 97), (3, 96), (3, 95), (3, 94), (3, 92), (3, 86), (3, 74), (3, 69), (3, 59), (3, 57), (3, 54), (3, 38), (3, 25), (3, 16), (3, 14), (3, 13), (3, 9), (3, 4), (2, 91), (2, 88), (2, 83), (2, 82), (2, 81), (2, 78), (2, 76), (2, 72), (2, 63), (2, 62), (2, 51), (2, 48), (2, 47), (2, 46), (2, 45), (2, 43), (2, 42), (2, 37), (2, 36), (2, 30), (2, 28), (2, 19), (2, 18), (2, 11), (2, 8), (2, 2), (2, 1), (1, 99), (1, 93), (1, 90), (1, 89), (1, 80), (1, 79), (1, 73), (1, 70), (1, 64), (1, 61), (1, 55), (1, 53), (1, 52), (1, 40), (1, 39), (1, 35), (1, 34), (1, 31), (1, 29), (1, 23), (1, 22), (1, 15), (1, 10), (1, 6)]\n",
      "\n",
      "Top 5 HIGHEST frequency numbers are:  [(7, 17), (6, 77), (5, 84), (5, 75), (5, 58)]\n"
     ]
    }
   ],
   "source": [
    "# write code here ...\n",
    "myList = [46, 84, 43, 75, 94, 7, 17, 76, 44, 17, 81, 21, 70, 56, 98, 88, 59, 58, 62, 77, \n",
    "          56, 19, 83, 82, 2, 38, 8, 57, 80, 54, 71, 74, 77, 18, 66, 25, 60, 29, 30, 11, \n",
    "          45, 60, 92, 44, 71, 49, 22, 74, 30, 58, 73, 60, 14, 97, 13, 78, 42, 17, 98, 14, \n",
    "          19, 79, 54, 56, 84, 81, 49, 18, 95, 36, 84, 77, 44, 69, 48, 94, 66, 13, 96, 7, \n",
    "          9, 47, 4, 37, 71, 51, 9, 28, 92, 38, 75, 66, 2, 34, 88, 4, 43, 75, 57, 83,\n",
    "          63, 17, 25, 98, 71, 95, 1, 86, 97, 90, 6, 96, 11, 49, 16, 91, 50, 66, 54, 94,\n",
    "          75, 69, 97, 23, 50, 13, 75, 15, 77, 17, 57, 59, 47, 44, 95, 28, 16, 72, 69, 7,\n",
    "          14, 76, 10, 21, 56, 89, 51, 78, 25, 7, 8, 17, 53, 86, 58, 35, 46, 16, 74, 21, 9,\n",
    "          4, 91, 59, 84, 50, 86, 60, 63, 99, 92, 64, 55, 40, 93, 39, 48, 96, 49, 98, 36,\n",
    "          72, 82, 45, 62, 58, 77, 17, 42, 49, 38, 21, 84, 61, 77, 1, 37, 31, 50, 52, 58]\n",
    "\n",
    "def make_dict(t):\n",
    "    Length = len(t)\n",
    "    d = {}\n",
    "    drev = []\n",
    "    print(\"Length of myList: \", len(t))\n",
    "    for I in range(Length):\n",
    "        K = t[I]\n",
    "        V = t.count(K)\n",
    "        d.update({K: V})\n",
    "    print(d)\n",
    "    print(\"Length of Dictionary: \", len(d))\n",
    "    for k1, v1 in sorted(d.items()):\n",
    "        x = (v1, k1)\n",
    "        drev.append(x)\n",
    "    drev.sort(reverse=True)\n",
    "    print(drev)\n",
    "    return drev\n",
    "\n",
    "dict = make_dict(myList)\n",
    "print(\"\\nTop 5 HIGHEST frequency numbers are: \", dict[0:5])\n",
    "# How to print top 5 unique items?"
   ]
  },
  {
   "cell_type": "code",
   "execution_count": 36,
   "metadata": {},
   "outputs": [
    {
     "data": {
      "text/plain": [
       "6"
      ]
     },
     "execution_count": 36,
     "metadata": {},
     "output_type": "execute_result"
    }
   ],
   "source": [
    "x = [1,2,3,4,5,2,3,4,5,3,4,5,4,5,5,5]\n",
    "v = 5\n",
    "x.count(v)"
   ]
  },
  {
   "cell_type": "markdown",
   "metadata": {},
   "source": [
    "9) Write a Python program to convert temperature from Centigrade to Fahrenheit\n",
    "and Fahrenheit to Centigrade. At the start, the program should ask which way we are converting.\n",
    "\n",
    "Then ask the user to input the temperature. Your program should do the conversion\n",
    "and print the results.\n",
    "\n",
    "(C x 9/5) + 32 = F"
   ]
  },
  {
   "cell_type": "code",
   "execution_count": 133,
   "metadata": {},
   "outputs": [
    {
     "name": "stdout",
     "output_type": "stream",
     "text": [
      "How would you like to convert, F2C or C2F? : f2c\n",
      "Please enter Temperature in Fahrenheit: 75\n",
      "\n",
      " 75.0 degrees F is equal to:  23.89 degrees C\n"
     ]
    }
   ],
   "source": [
    "# Write code here - COMPLETED\n",
    "\n",
    "def do_F2C(f):\n",
    "    c = (f - 32) * (5/9)\n",
    "    print(\"\\n\", round(f,2), \"degrees F is equal to: \", round(c,2), \"degrees C\")\n",
    "    return c\n",
    "\n",
    "def do_C2F(c):\n",
    "    f = (c * 9/5) + 32\n",
    "    print(\"\\n\", round(c,2), \" degrees C is equal to: \", round(f,2), \" degrees F\")\n",
    "    return f\n",
    "\n",
    "Convert = input(\"How would you like to convert, F2C or C2F? : \")\n",
    "if Convert == \"F2C\" or \"f2c\":\n",
    "    F = float(input(\"Please enter Temperature in Fahrenheit: \"))\n",
    "    do_F2C(F)\n",
    "elif Convert == \"C2F\" or \"c2f\":\n",
    "    F = float(input(\"Please enter Temperature in Centigrade: \"))\n",
    "    do_C2F(F)\n",
    "else:\n",
    "    print(\"Invalid Input\")"
   ]
  },
  {
   "cell_type": "code",
   "execution_count": null,
   "metadata": {},
   "outputs": [],
   "source": [
    "\"\"\"\n",
    "10) Print the times table:\n",
    "1x1=1 1x2=2 1x3=3 1x4=4 1x5=5\n",
    "2x1=2 2x2=4 2x3=6 2x4=8 2x5=10\n",
    "3x1=3 3x2=6 3x3=9 3x4=12 3x5=15\n",
    "4x1=4 4x2=8 4x3=12 4x4=16 4x5=20\n",
    "5x1=5 5x2=10 5x3=15 5x4=20 5x5=25\n",
    "\n",
    "Use for loop nested with for loop to print the above multiplication table\n",
    "\"\"\""
   ]
  },
  {
   "cell_type": "code",
   "execution_count": 131,
   "metadata": {},
   "outputs": [
    {
     "name": "stdout",
     "output_type": "stream",
     "text": [
      "<class 'int'>\n",
      "['1x1=1', '1x2=2', '1x3=3', '1x4=4', '1x5=5']\n",
      "['2x1=2', '2x2=4', '2x3=6', '2x4=8', '2x5=10']\n",
      "['3x1=3', '3x2=6', '3x3=9', '3x4=12', '3x5=15']\n",
      "['4x1=4', '4x2=8', '4x3=12', '4x4=16', '4x5=20']\n",
      "['5x1=5', '5x2=10', '5x3=15', '5x4=20', '5x5=25']\n"
     ]
    }
   ],
   "source": [
    "# write code here \n",
    "\n",
    "def print_mult(x1,y1):\n",
    "    x = x1 + 1\n",
    "    y = y1 + 1\n",
    "    c = 1\n",
    "    while c != x:\n",
    "        l = []\n",
    "        for n in range(1,y):\n",
    "            w = [str(c), 'x', str(n), '=', str(c*n)]\n",
    "#            print(w)\n",
    "#            print(c, \"x\", n, \"=\", c*n)\n",
    "            s = ''.join(w)\n",
    "            l.append(s)\n",
    "#            print(s)\n",
    "        print(l)\n",
    "        c += 1 \n",
    "\n",
    "a = 5\n",
    "b = 5\n",
    "print(type(a))\n",
    "print_mult(a,b)"
   ]
  },
  {
   "cell_type": "code",
   "execution_count": null,
   "metadata": {},
   "outputs": [],
   "source": []
  }
 ],
 "metadata": {
  "kernelspec": {
   "display_name": "Python 3",
   "language": "python",
   "name": "python3"
  },
  "language_info": {
   "codemirror_mode": {
    "name": "ipython",
    "version": 3
   },
   "file_extension": ".py",
   "mimetype": "text/x-python",
   "name": "python",
   "nbconvert_exporter": "python",
   "pygments_lexer": "ipython3",
   "version": "3.7.3"
  }
 },
 "nbformat": 4,
 "nbformat_minor": 2
}
