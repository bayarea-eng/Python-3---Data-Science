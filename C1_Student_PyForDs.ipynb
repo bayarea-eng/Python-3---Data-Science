{
 "cells": [
  {
   "cell_type": "markdown",
   "metadata": {},
   "source": [
    "# COMPLETED HW1 - Shyla - 11/09/2019 \n",
    "## Header 2 -- Python for Data Science\n"
   ]
  },
  {
   "cell_type": "code",
   "execution_count": 2,
   "metadata": {},
   "outputs": [
    {
     "name": "stdout",
     "output_type": "stream",
     "text": [
      "Hello, Python!\n"
     ]
    }
   ],
   "source": [
    "print(\"Hello, Python!\")"
   ]
  },
  {
   "cell_type": "code",
   "execution_count": 3,
   "metadata": {
    "scrolled": true
   },
   "outputs": [
    {
     "name": "stdout",
     "output_type": "stream",
     "text": [
      "0\n",
      "1\n",
      "2\n",
      "3\n",
      "4\n",
      "5\n",
      "6\n",
      "7\n",
      "8\n",
      "9\n"
     ]
    }
   ],
   "source": [
    "for x in range(0,10):\n",
    "    print(x)"
   ]
  },
  {
   "cell_type": "markdown",
   "metadata": {},
   "source": [
    "### --- Exercise 1\n",
    "### Print the following string \"Learning Python for Data Science\""
   ]
  },
  {
   "cell_type": "code",
   "execution_count": 1,
   "metadata": {},
   "outputs": [
    {
     "name": "stdout",
     "output_type": "stream",
     "text": [
      "Learning Python for Data Science\n"
     ]
    }
   ],
   "source": [
    "# Exercise 1 - write code in this cell and click on Run - COMPLETED\n",
    "print(\"Learning Python for Data Science\")"
   ]
  },
  {
   "cell_type": "code",
   "execution_count": 5,
   "metadata": {},
   "outputs": [
    {
     "name": "stdout",
     "output_type": "stream",
     "text": [
      "100\n",
      "1000.0\n",
      "John\n",
      "1\n",
      "1\n",
      "1\n",
      "22\n",
      "33\n",
      "5 1\n"
     ]
    }
   ],
   "source": [
    "# NOTES\n",
    "counter = 100          # An integer assignment\n",
    "miles   = 1000.0       # A floating point\n",
    "name    = \"John\"       # A string\n",
    "\n",
    "print(counter)\n",
    "print(miles)\n",
    "print(name)\n",
    "\n",
    "a = b = c = 1\n",
    "print(a)\n",
    "print(b)\n",
    "print(c)\n",
    "aa,bb = 22,33\n",
    "print(aa)\n",
    "print(bb)\n",
    "a=5\n",
    "print(a,b)"
   ]
  },
  {
   "cell_type": "markdown",
   "metadata": {},
   "source": [
    "### --- Exrecise 2\n",
    "### Create variables with your first_name and last_name\n",
    "### print first_name and last_name"
   ]
  },
  {
   "cell_type": "code",
   "execution_count": 6,
   "metadata": {},
   "outputs": [
    {
     "name": "stdout",
     "output_type": "stream",
     "text": [
      "Sanjay Agarwal\n"
     ]
    }
   ],
   "source": [
    "# Exercise 2 - Python code - COMPLETED\n",
    "first_name = \"Sanjay\"\n",
    "last_name = \"Agarwal\"\n",
    "print(first_name, last_name)"
   ]
  },
  {
   "cell_type": "code",
   "execution_count": 3,
   "metadata": {},
   "outputs": [
    {
     "name": "stdout",
     "output_type": "stream",
     "text": [
      "Py - Data Science class is on 8 from 10:00AM to 1:00PM\n"
     ]
    }
   ],
   "source": [
    "# Exercise 2b -- write code in this cell and click on Run - COMPLETED\n",
    "# METHOD 1\n",
    "# Initialise following variables:\n",
    "class_name = \"Py - Data Science\"\n",
    "which_day = \"Saturday\"\n",
    "Num_days = \"8\"\n",
    "Class_timings = \"10:00AM to 1:00PM\"\n",
    "# You want to print the following:\n",
    "# \"Python for Data Science class is on 8 Saturdays from 10AM to 1PM\n",
    "print(class_name, \"class is on\", Num_days, \"from\" , Class_timings )"
   ]
  },
  {
   "cell_type": "code",
   "execution_count": 2,
   "metadata": {},
   "outputs": [
    {
     "name": "stdout",
     "output_type": "stream",
     "text": [
      "Py - Data Science class is on 8 from 10:00AM to 1:00PM\n"
     ]
    }
   ],
   "source": [
    "# Method 2 - COMPLETED\n",
    "class_name = \"Py - Data Science\"\n",
    "which_day = \"Saturday\"\n",
    "Num_days = 8\n",
    "Class_timings = \"10:00AM to 1:00PM\"\n",
    "# You want to print the following:\n",
    "# \"Python for Data Science class is on 8 Saturdays from 10AM to 1PM\n",
    "print(class_name, \"class is on\", str(Num_days), \"from\" , Class_timings )"
   ]
  },
  {
   "cell_type": "code",
   "execution_count": 8,
   "metadata": {},
   "outputs": [
    {
     "name": "stdout",
     "output_type": "stream",
     "text": [
      "Hello World!\n",
      "H\n",
      "llo W\n",
      "llo World!\n",
      "Hello World!Hello World!\n",
      "Hello World! TEST\n",
      "!\n",
      "ld!\n"
     ]
    }
   ],
   "source": [
    "# NOTES\n",
    "str = 'Hello World!'\n",
    "\n",
    "a = str               # Hello World\n",
    "b = str[0]            # H\n",
    "c = str[2:7]          # 'llo W'\n",
    "d = str[2:]           # 'llo World!'\n",
    "e = str * 2            # Hellow World! Hello World!\n",
    "f = str + \" \" + \"TEST\"  # \"Hello World TEST\"\n",
    "g = str[-1]           # !\n",
    "h = str[-3:]              # ld!\n",
    "print(a)          # Prints complete string\n",
    "print(b)       # Prints first character of the string\n",
    "print(c)     # Prints characters starting from 3rd to 5th\n",
    "print(d)      # Prints string starting from 3rd character\n",
    "print(e)      # Prints string two times\n",
    "print(f) # Prints concatenated string\n",
    "print(g)\n",
    "print(h)"
   ]
  },
  {
   "cell_type": "markdown",
   "metadata": {},
   "source": [
    "### --- Exercise 3 \n",
    "### print first two characters of first_name and last two characters of last_name"
   ]
  },
  {
   "cell_type": "code",
   "execution_count": 4,
   "metadata": {},
   "outputs": [
    {
     "name": "stdout",
     "output_type": "stream",
     "text": [
      "S - H\n"
     ]
    }
   ],
   "source": [
    "# Exercise 3 - write code in this cell - COMPLETED\n",
    "# You want to extract first letter from first_name, middle_name, and last_name\n",
    "fn = \"Shaila\"\n",
    "mn = \"-\"\n",
    "ln =\"Hanra\"\n",
    "\n",
    "print(fn[0], mn[0], ln[0])"
   ]
  },
  {
   "cell_type": "code",
   "execution_count": 13,
   "metadata": {},
   "outputs": [
    {
     "data": {
      "text/plain": [
       "'\\nBlock comment\\n'"
      ]
     },
     "execution_count": 13,
     "metadata": {},
     "output_type": "execute_result"
    }
   ],
   "source": [
    "\"\"\"\n",
    "Block comment\n",
    "\"\"\""
   ]
  },
  {
   "cell_type": "code",
   "execution_count": 12,
   "metadata": {},
   "outputs": [
    {
     "name": "stdout",
     "output_type": "stream",
     "text": [
      "['abcd', 786, 2.23, 'john', 70.2]\n",
      "abcd\n",
      "[786, 2.23]\n",
      "[2.23, 'john', 70.2]\n"
     ]
    }
   ],
   "source": [
    "###########################################################\n",
    "## Python Lists - NOTES\n",
    "###########################################################\n",
    "list = [ 'abcd', 786 , 2.23, 'john', 70.2 ]\n",
    "\n",
    "print(list)          # Prints complete list\n",
    "print(list[0])       # Prints first element of the list\n",
    "print(list[1:3])     # Prints elements starting from 2nd till 3rd \n",
    "print(list[-3:])"
   ]
  },
  {
   "cell_type": "markdown",
   "metadata": {},
   "source": [
    "## Exercise 4 -- Lists\n",
    "## Define a new Python list \"new_list\" and initialize it with \"1\",\"A\",\"2\",\"B\",\"3\",\"C\"\n",
    "## Print values with alternate indices 0,2,4 and 1,3,5"
   ]
  },
  {
   "cell_type": "code",
   "execution_count": 8,
   "metadata": {},
   "outputs": [
    {
     "name": "stdout",
     "output_type": "stream",
     "text": [
      "Indices 0, 2, 4 are:  ['1', '2', '3']\n",
      "Indices 1, 3, 5 are:  ['A', 'B', 'C']\n"
     ]
    }
   ],
   "source": [
    "## Write code for Exercise 4 in this cell - COMPLETED\n",
    "new_list =[\"1\", \"A\", \"2\", \"B\", \"3\", \"C\"]\n",
    "print(\"Indices 0, 2, 4 are: \", new_list[::2])\n",
    "print(\"Indices 1, 3, 5 are: \", new_list[1::2])"
   ]
  },
  {
   "cell_type": "code",
   "execution_count": 9,
   "metadata": {},
   "outputs": [
    {
     "name": "stdout",
     "output_type": "stream",
     "text": [
      "('abcde', 786, 2.23, 'john', 70.2)\n",
      "abcde\n",
      "(786, 2.23)\n",
      "aaaaa\n"
     ]
    }
   ],
   "source": [
    "###########################################################\n",
    "## Python Tuples - TUPLES ARE IMMUTABLE - NOTES\n",
    "###########################################################\n",
    "tuple = ('abcd', 786 , 2.23, 'john', 70.2 )\n",
    "tuple = (\"abcde\", 786 , 2.23, 'john', 70.2 )\n",
    "print(tuple)          # Prints complete list\n",
    "print(tuple[0])       # Prints first element of the list\n",
    "print(tuple[1:3])     # Prints elements starting from 2nd till 3rd \n",
    "var1 = \"jshjah\"\n",
    "var1 = \"aaaaa\"\n",
    "print(var1)"
   ]
  },
  {
   "cell_type": "code",
   "execution_count": null,
   "metadata": {},
   "outputs": [],
   "source": []
  },
  {
   "cell_type": "code",
   "execution_count": 14,
   "metadata": {},
   "outputs": [
    {
     "name": "stdout",
     "output_type": "stream",
     "text": [
      "1 - Got a true expression value\n",
      "2000\n"
     ]
    }
   ],
   "source": [
    "## Decisions in Python - NOTES\n",
    "var = 2000\n",
    "if var == 2000:\n",
    "    print(\"1 - Got a true expression value\")\n",
    "    print(var)\n",
    "elif var == 150:\n",
    "    print(\"2 - Got a true expression value\")\n",
    "    print(var)\n",
    "elif var == 100:\n",
    "    print(\"3 - Got a true expression value\")\n",
    "    print(var)\n",
    "elif var == \"Sunnyvale\":\n",
    "    print(\"var is Sunnyvale\")\n",
    "else:\n",
    "    print(\"4 - Got a false expression value\")\n",
    "    print(var)"
   ]
  },
  {
   "cell_type": "markdown",
   "metadata": {},
   "source": [
    "### --- Exercise 5 - if .. elif .. else\n",
    "### Initialize string state_name to be \"California\" or \"Texas\"\n",
    "### write if ... elif ... else checking state_name \n",
    "### if state_name is California, print \"Golden State\"\n",
    "### if state_name is Texas, print \"Lone Star State\"\n",
    "### default else to printing \"Not Golden State or Lone Star State\" "
   ]
  },
  {
   "cell_type": "code",
   "execution_count": 12,
   "metadata": {},
   "outputs": [
    {
     "name": "stdout",
     "output_type": "stream",
     "text": [
      "Not Golden State or Lone Star State\n"
     ]
    }
   ],
   "source": [
    "# Write code for Exercise 5 in this box - COMPLETED\n",
    "\n",
    "State = \"Colorado\"\n",
    "\n",
    "if State == \"California\":\n",
    "    print(\"Golden State\")\n",
    "elif State == \"Texas\":\n",
    "    print(\"Lone Star State\")\n",
    "else:\n",
    "    print(\"Not Golden State or Lone Star State\")"
   ]
  },
  {
   "cell_type": "code",
   "execution_count": 13,
   "metadata": {},
   "outputs": [
    {
     "name": "stdout",
     "output_type": "stream",
     "text": [
      "The count is: 0\n",
      "The count is: 1\n",
      "The count is: 2\n",
      "The count is: 3\n",
      "The count is: 4\n",
      "The count is: 5\n",
      "The count is: 6\n",
      "The count is: 7\n",
      "The count is: 8\n",
      "Current Letter : P\n",
      "Current Letter : y\n",
      "Current Letter : t\n",
      "Current Letter : h\n",
      "Current Letter : o\n",
      "Current Letter : n\n",
      "Current fruit : banana\n",
      "Current fruit : apple\n",
      "Current fruit : mango\n",
      "Current fruit : apple\n",
      "['tesla', 'toyota', 'honda']\n",
      "n\n",
      "new banana\n",
      "new apple\n",
      "new mango\n",
      "new apple\n",
      "1\n"
     ]
    }
   ],
   "source": [
    "## For and while Loops - COMPLETED\n",
    "## while loop\n",
    "count = 0\n",
    "while (count < 9):\n",
    "    print('The count is:', count)\n",
    "    count = count + 1\n",
    "\n",
    "## for loop\n",
    "for letter in 'Python':     # First Example\n",
    "    print('Current Letter :', letter)\n",
    "    \n",
    "fruits = ['banana', 'apple',  'mango', 'apple']\n",
    "for fruit in fruits:        # Second Example\n",
    "    print('Current fruit :', fruit)\n",
    "\n",
    "cars = [\"honda\",\"toyota\",\"tesla\"]\n",
    "cars.reverse()\n",
    "print(cars)\n",
    " \n",
    "print(letter)\n",
    "\n",
    "for kk in range(0,len(fruits)):\n",
    "    print(\"new\",fruits[kk])\n",
    "    \n",
    "apple_index = fruits.index('apple')\n",
    "print(apple_index)"
   ]
  },
  {
   "cell_type": "markdown",
   "metadata": {},
   "source": [
    "### --- Exercise 6 -- print fruits in reverse order, one line per fruit\n",
    "### mango\n",
    "### apple\n",
    "### banana"
   ]
  },
  {
   "cell_type": "code",
   "execution_count": 27,
   "metadata": {},
   "outputs": [
    {
     "name": "stdout",
     "output_type": "stream",
     "text": [
      "Fruits before reversing:  ['banana', 'apple', 'mango', 'apple']\n",
      "Fruits AFTER reversing:  ['apple', 'mango', 'apple', 'banana']\n"
     ]
    }
   ],
   "source": [
    "# Write code for Exercise 6 in this cell - COMPLETED\n",
    "print(\"Fruits before reversing: \", fruits)\n",
    "fruits.reverse()\n",
    "print(\"Fruits AFTER reversing: \", fruits)\n",
    "#print(rev_fruits)"
   ]
  },
  {
   "cell_type": "code",
   "execution_count": 18,
   "metadata": {},
   "outputs": [
    {
     "name": "stdout",
     "output_type": "stream",
     "text": [
      "(15, -5)\n",
      "(3, -1)\n",
      "(11, -9)\n",
      "(6, 4)\n"
     ]
    }
   ],
   "source": [
    "## Functions in Python - NOTES\n",
    "def add_numbers(a=5,b=10):\n",
    "    c = a + b\n",
    "    d = a - b\n",
    "    return c,d\n",
    "    \n",
    "print(add_numbers())\n",
    "print(add_numbers(1,2))\n",
    "print(add_numbers(1))\n",
    "print(add_numbers(b=1))"
   ]
  },
  {
   "cell_type": "markdown",
   "metadata": {},
   "source": [
    "### --- Exercise 7 -- functions -- \n",
    "### write function to find square(a) + square(b), given a and b\n",
    "### def square_and_sum(a,b)\n",
    "### when a = 2 and b = 3, the function should return 13\n",
    "###\n",
    "### write function to add strings \n",
    "### def add_strings(str1,str2)\n",
    "### when str1 = \"Hello\" and str2 = \"World\", \n",
    "### it should return \"Hello World!!!\" with space and !!!. "
   ]
  },
  {
   "cell_type": "code",
   "execution_count": 32,
   "metadata": {},
   "outputs": [
    {
     "name": "stdout",
     "output_type": "stream",
     "text": [
      "range(0, 5)\n",
      "0\n",
      "1\n",
      "2\n",
      "3\n",
      "4\n",
      "Result of square_and_sum is:  13\n",
      "Result of add_strings is:  Hello World!!!\n"
     ]
    }
   ],
   "source": [
    "# Write code for Exercise 7 in this cell - COMPLETED\n",
    "\n",
    "yy = range(5)   # range is a datatype like int or str\n",
    "print(yy)\n",
    "for m in yy:\n",
    "    print(m)\n",
    "\n",
    "def square_and_sum(a,b):\n",
    "    c = a**2 + b**2\n",
    "    return c\n",
    "\n",
    "def add_strings(s1,s2):\n",
    "    s = s1 + \" \" + s2 + \"!!!\"\n",
    "    return s\n",
    "\n",
    "print(\"Result of square_and_sum is: \", square_and_sum(2,3) )\n",
    "print(\"Result of add_strings is: \", add_strings(\"Hello\",\"World\") )"
   ]
  },
  {
   "cell_type": "code",
   "execution_count": 20,
   "metadata": {},
   "outputs": [
    {
     "name": "stdout",
     "output_type": "stream",
     "text": [
      "0\n",
      "1\n",
      "2\n",
      "3\n",
      "4\n",
      "5\n",
      "6\n",
      "7\n",
      "8\n",
      "9\n"
     ]
    }
   ],
   "source": [
    "for x in range(10): \n",
    "    print(x)"
   ]
  },
  {
   "cell_type": "code",
   "execution_count": 21,
   "metadata": {},
   "outputs": [
    {
     "name": "stdout",
     "output_type": "stream",
     "text": [
      "1\n",
      "3\n",
      "5\n"
     ]
    }
   ],
   "source": [
    "# range also follows the format range(start_value,stop_value,step_value) - NOTES\n",
    "for x in range(1,6,2):\n",
    "    print(x)"
   ]
  },
  {
   "cell_type": "markdown",
   "metadata": {},
   "source": [
    "### --- Exercise 8 -- using range\n",
    "### print numbers 10, 9, 8, ..., 1"
   ]
  },
  {
   "cell_type": "code",
   "execution_count": 39,
   "metadata": {},
   "outputs": [
    {
     "name": "stdout",
     "output_type": "stream",
     "text": [
      "List before reversing:  [1, 2, 3, 4, 5, 6, 7, 8, 9, 10]\n",
      "List AFTER reversing:  [10, 9, 8, 7, 6, 5, 4, 3, 2, 1]\n"
     ]
    }
   ],
   "source": [
    "# Write code for Exercise 8 in this cell - COMPLETED\n",
    "a = [i for i in range(1,11)]\n",
    "print(\"List before reversing: \", a)\n",
    "a.reverse()\n",
    "print(\"List AFTER reversing: \", a)"
   ]
  },
  {
   "cell_type": "code",
   "execution_count": 22,
   "metadata": {},
   "outputs": [
    {
     "name": "stdout",
     "output_type": "stream",
     "text": [
      "list1-a = [1, 11, 111, 1111]\n",
      "list1-a = [1, 11, 111, 1111]\n",
      "list1-b = [1, 11, 111, 1111, 2, 22, 222]\n",
      "list1-c = [1, 11, 1111, 2, 22, 222, 999999]\n",
      "list1-d                = [1, 2, 11, 22, 222, 1111, 999999]\n",
      "list1-e = [999999, 1111, 222, 22, 11, 2, 1]\n",
      "[999999, 1111, 222, 22, 11, 2, 1, 2, 22, 222]\n"
     ]
    }
   ],
   "source": [
    "## Appending and extending Python lists - NOTES\n",
    "list1 = [1,11,111]\n",
    "list2 = [2,22,222]\n",
    "\n",
    "list3 = [1, 2.5, \"tom\", \"sanjay\", \"ali\"]\n",
    "\n",
    "list1.append(1111)\n",
    "print(\"list1-a = %s\" % list1)\n",
    "print(\"list1-a =\",list1)\n",
    "\n",
    "list1.extend(list2)\n",
    "print(\"list1-b = %s\" % list1)\n",
    "\n",
    "list1.remove(111)\n",
    "list1.append(999999)\n",
    "print(\"list1-c = %s\" % list1)\n",
    "\n",
    "list1.sort()\n",
    "print(\"list1-d                = %s\" % list1)\n",
    "\n",
    "list1.sort(reverse=True)\n",
    "print(\"list1-e = %s\" % list1)\n",
    "\n",
    "listc = []\n",
    "list1.extend(list2)\n",
    "listc = list1\n",
    "print(listc)\n"
   ]
  },
  {
   "cell_type": "markdown",
   "metadata": {},
   "source": [
    "### --- Exercise 9 -- lists with strings\n",
    "### Initialize states_list with California, Texas, Arizona\n",
    "### step 1: Add Florida\n",
    "### step 2: Remove Texas\n",
    "### step 3: Sort ascending order, and print the list\n",
    "### step 4: Sort descending order, and print the list"
   ]
  },
  {
   "cell_type": "code",
   "execution_count": 48,
   "metadata": {},
   "outputs": [
    {
     "name": "stdout",
     "output_type": "stream",
     "text": [
      "Original States List:  ['California', 'Texas', 'Arizona']\n",
      "States List after APPENDING Florida:  ['California', 'Texas', 'Arizona', 'Florida']\n",
      "States List AFTER REMOVING Texas:  ['California', 'Arizona', 'Florida']\n",
      "Sorted States List Ascending:  ['Arizona', 'California', 'Florida']\n",
      "Sorted States List Descending:  ['Florida', 'California', 'Arizona']\n"
     ]
    }
   ],
   "source": [
    "# Write code for Exercise 9 in this cell - COMPLETED\n",
    "\n",
    "states_list = [\"California\", \"Texas\", \"Arizona\"]\n",
    "print(\"Original States List: \", states_list)\n",
    "states_list.append(\"Florida\")\n",
    "print(\"States List after APPENDING Florida: \", states_list)\n",
    "states_list.remove(\"Texas\")\n",
    "print(\"States List AFTER REMOVING Texas: \", states_list)\n",
    "states_list.sort()\n",
    "print(\"Sorted States List Ascending: \", states_list)\n",
    "states_list.sort(reverse = True)\n",
    "print(\"Sorted States List Descending: \", states_list)"
   ]
  },
  {
   "cell_type": "code",
   "execution_count": 23,
   "metadata": {},
   "outputs": [
    {
     "name": "stdout",
     "output_type": "stream",
     "text": [
      "2.5\n",
      "2.5\n",
      "2\n",
      "2.0\n"
     ]
    }
   ],
   "source": [
    "## Integer and floating division - NOTES\n",
    "def div1(x,y):\n",
    "    print(x/y)\n",
    "    \n",
    "def div2(x,y):\n",
    "    print(x//y) # integer division\n",
    "\n",
    "div1(5,2)\n",
    "div1(5.,2)\n",
    "div2(5,2)\n",
    "div2(5.,2.)"
   ]
  },
  {
   "cell_type": "code",
   "execution_count": 24,
   "metadata": {},
   "outputs": [
    {
     "name": "stdout",
     "output_type": "stream",
     "text": [
      "5\n",
      "22\n",
      "99\n"
     ]
    }
   ],
   "source": [
    "# Printing list length - NOTEs\n",
    "list1 = ['a', 'b', 'c', 'd', 'e']\n",
    "print(len(list1))\n",
    "\n",
    "list2 = [11,22,33,44,55,66,77,88,99,110]\n",
    "print(list2[1])\n",
    "\n",
    "print(list2[-2])       "
   ]
  },
  {
   "cell_type": "code",
   "execution_count": 25,
   "metadata": {},
   "outputs": [
    {
     "name": "stdout",
     "output_type": "stream",
     "text": [
      "1-- 1\n",
      "2-- -1\n",
      "3-- 2\n",
      "4-- 7\n"
     ]
    }
   ],
   "source": [
    "state_name = \"California\"\n",
    "find_str = state_name.find(\"a\")\n",
    "print(\"1--\",find_str)\n",
    "\n",
    "find_str = state_name.find(\"z\") # IF char is not found returns -1\n",
    "print(\"2--\",find_str)\n",
    "\n",
    "count_str = state_name.count(\"a\")\n",
    "print(\"3--\",count_str)\n",
    "\n",
    "find_str = state_name.find(\"nia\") # Can find sub-strings\n",
    "print(\"4--\",find_str)"
   ]
  },
  {
   "cell_type": "code",
   "execution_count": 49,
   "metadata": {},
   "outputs": [
    {
     "name": "stdout",
     "output_type": "stream",
     "text": [
      "10\n"
     ]
    }
   ],
   "source": [
    "mystring = \"California\"\n",
    "print(len(mystring))"
   ]
  },
  {
   "cell_type": "markdown",
   "metadata": {},
   "source": [
    "### --- Exercise 10 -- find, count --- define the string Albert_Einstein\n",
    "### Albert_Einstein = \"Life is like riding a bicycle. To keep your balance \n",
    "### you must keep moving.\"\n",
    "### Find number of occurences for: you, ing, life (all case sensitive)"
   ]
  },
  {
   "cell_type": "code",
   "execution_count": 54,
   "metadata": {},
   "outputs": [
    {
     "name": "stdout",
     "output_type": "stream",
     "text": [
      "Number of occurances of 'you': 2\n",
      "Number of occurances of 'ing': 2\n",
      "Number of occurances of 'life': 0\n"
     ]
    }
   ],
   "source": [
    "# Write code for Exercise 10 in this cell - COMPLETED\n",
    "A_E = \"Life is like riding a bicycle. To keep your balance you must keep moving.\"\n",
    "print(\"Number of occurances of 'you':\", A_E.count(\"you\") )\n",
    "print(\"Number of occurances of 'ing':\", A_E.count(\"ing\") )\n",
    "print(\"Number of occurances of 'life':\", A_E.count(\"life\") )"
   ]
  },
  {
   "cell_type": "code",
   "execution_count": 26,
   "metadata": {},
   "outputs": [
    {
     "name": "stdout",
     "output_type": "stream",
     "text": [
      "Words is a list:  ['Python', 'for', 'Data', 'Science']\n",
      "ss1 is a string:  Python for Data Science\n",
      "['this', 'is', 'nice']\n"
     ]
    }
   ],
   "source": [
    "# Splitting strings - NOTES\n",
    "ss = \"Python for Data Science\"\n",
    "\n",
    "words = ss.split()\n",
    "print(\"Words is a list: \",words)\n",
    "\n",
    "ss1 = \" \".join(words)\n",
    "print(\"ss1 is a string: \",ss1)\n",
    "\n",
    "mystring = \"this,is,nice\"\n",
    "split_mystring = mystring.split(\",\")\n",
    "print(split_mystring)"
   ]
  },
  {
   "cell_type": "code",
   "execution_count": 55,
   "metadata": {},
   "outputs": [],
   "source": [
    "#NOTES\n",
    "states_1 = [\"Washington\",\"Oregon\",\"California\"]\n",
    "states_2 = [\"Texas\",\"Arizona\",\"New Mexico\",\"Nevada\"]\n",
    "states_3 = [\"Florida\",\"Georgia\",\"Alabama\",\"Louisiana\"]"
   ]
  },
  {
   "cell_type": "markdown",
   "metadata": {},
   "source": [
    "### --- Exrecise 11 Concatenate lists and print alternate\n",
    "### 1) create a new list \"states_123\" which includes states_1,\n",
    "### states_2, and states_3\n",
    "### 2) Sort the list in ascending order\n",
    "### 3) print alternate state names from states_123"
   ]
  },
  {
   "cell_type": "code",
   "execution_count": 73,
   "metadata": {},
   "outputs": [
    {
     "name": "stdout",
     "output_type": "stream",
     "text": [
      "INITIAL states_123 = ['Washington', 'Oregon', 'California', 'Texas', 'Arizona', 'New Mexico', 'Nevada', 'Florida', 'Georgia', 'Alabama', 'Louisiana']\n",
      "\n",
      "SORTED states_123 Ascending =  ['Alabama', 'Arizona', 'California', 'Florida', 'Georgia', 'Louisiana', 'Nevada', 'New Mexico', 'Oregon', 'Texas', 'Washington']\n",
      "\n",
      "ALTERNATE states_123 from SORTED list =  ['Alabama', 'California', 'Georgia', 'Nevada', 'Oregon', 'Washington']\n"
     ]
    }
   ],
   "source": [
    "# Your code here ... - COMPLETED\n",
    "states_123 = []\n",
    "states_123.extend(states_1)\n",
    "states_123.extend(states_2)\n",
    "states_123.extend(states_3)\n",
    "print(\"INITIAL states_123 =\", states_123)\n",
    "\n",
    "states_123.sort()\n",
    "print(\"\\nSORTED states_123 Ascending = \", states_123 )\n",
    "\n",
    "print(\"\\nALTERNATE states_123 from SORTED list = \", states_123[::2])"
   ]
  },
  {
   "cell_type": "code",
   "execution_count": null,
   "metadata": {},
   "outputs": [],
   "source": []
  }
 ],
 "metadata": {
  "anaconda-cloud": {},
  "kernelspec": {
   "display_name": "Python 3",
   "language": "python",
   "name": "python3"
  },
  "language_info": {
   "codemirror_mode": {
    "name": "ipython",
    "version": 3
   },
   "file_extension": ".py",
   "mimetype": "text/x-python",
   "name": "python",
   "nbconvert_exporter": "python",
   "pygments_lexer": "ipython3",
   "version": "3.7.3"
  }
 },
 "nbformat": 4,
 "nbformat_minor": 2
}
